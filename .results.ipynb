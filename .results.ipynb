{
 "cells": [
  {
   "cell_type": "code",
   "execution_count": 2,
   "metadata": {},
   "outputs": [],
   "source": [
    "import pandas as pd\n",
    "import numpy as np"
   ]
  },
  {
   "cell_type": "code",
   "execution_count": 16,
   "metadata": {},
   "outputs": [
    {
     "name": "stdout",
     "output_type": "stream",
     "text": [
      "iou_mean       0.03\n",
      "auroc_mean     0.59\n",
      "max_f1_mean    0.06\n",
      "dtype: float64\n",
      "iou_mean       0.13\n",
      "auroc_mean     0.73\n",
      "max_f1_mean    0.22\n",
      "dtype: float64\n",
      "iou_mean       0.13\n",
      "auroc_mean     0.74\n",
      "max_f1_mean    0.22\n",
      "dtype: float64\n"
     ]
    }
   ],
   "source": [
    "df = pd.read_csv('results_image_sy/zipper_bs_syhw_saa_result.csv')\n",
    "length = len(df)\n",
    "third = length // 3\n",
    "\n",
    "# bs\n",
    "print(df.iloc[:third, 1:].mean().round(2))\n",
    "# saa\n",
    "print(df.iloc[2*third:, 1:].mean().round(2))\n",
    "# syhw\n",
    "print(df.iloc[third:2*third, 1:].mean().round(2))"
   ]
  },
  {
   "cell_type": "code",
   "execution_count": null,
   "metadata": {},
   "outputs": [],
   "source": []
  }
 ],
 "metadata": {
  "kernelspec": {
   "display_name": "saa_llama",
   "language": "python",
   "name": "python3"
  },
  "language_info": {
   "codemirror_mode": {
    "name": "ipython",
    "version": 3
   },
   "file_extension": ".py",
   "mimetype": "text/x-python",
   "name": "python",
   "nbconvert_exporter": "python",
   "pygments_lexer": "ipython3",
   "version": "3.9.19"
  }
 },
 "nbformat": 4,
 "nbformat_minor": 2
}
